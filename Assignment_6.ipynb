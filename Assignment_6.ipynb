{
 "cells": [
  {
   "cell_type": "code",
   "execution_count": 1,
   "id": "14067807",
   "metadata": {},
   "outputs": [
    {
     "name": "stdout",
     "output_type": "stream",
     "text": [
      "['False', 'None', 'True', 'and', 'as', 'assert', 'async', 'await', 'break', 'class', 'continue', 'def', 'del', 'elif', 'else', 'except', 'finally', 'for', 'from', 'global', 'if', 'import', 'in', 'is', 'lambda', 'nonlocal', 'not', 'or', 'pass', 'raise', 'return', 'try', 'while', 'with', 'yield']\n"
     ]
    }
   ],
   "source": [
    "\n",
    "#1\n",
    "import keyword\n",
    "\n",
    "all_keywords = keyword.kwlist\n",
    "print(all_keywords)\n"
   ]
  },
  {
   "cell_type": "markdown",
   "id": "e0eca824",
   "metadata": {},
   "source": [
    "Keywords in Python are reserved words that have special meanings and purposes within the language. These words are used to define the syntax and structure of the code."
   ]
  },
  {
   "cell_type": "markdown",
   "id": "e5caba24",
   "metadata": {},
   "source": [
    "2.In Python, variables are used to store data values. To create variables, you need to follow certain rules and conventions. \n",
    "Naming rules\n",
    "Naming conventions\n",
    "Reserved Keywords\n",
    "Avoid using Built-in Names\n",
    "No spaces or special charecters\n"
   ]
  },
  {
   "cell_type": "markdown",
   "id": "8ecef3dc",
   "metadata": {},
   "source": [
    "3.Following consistent and well-established naming conventions for variables is crucial for writing readable and maintainable Python code. \n",
    "Use descriptive names\n",
    "use lowercase letters\n",
    "Avoid underscores at the start\n",
    "Avoid using biultin names\n",
    "Be consistent\n",
    "Use meaningful names\n"
   ]
  },
  {
   "cell_type": "markdown",
   "id": "faf1be97",
   "metadata": {},
   "source": [
    "4.If a keyword is used as a variable name in Python, it will result in a SyntaxError. Keywords are reserved words in the language that have specific meanings and purposes, so you cannot use them as identifiers (such as variable names, function names, etc.). Attempting to use a keyword as a variable name will lead to a syntax error during code execution."
   ]
  },
  {
   "cell_type": "code",
   "execution_count": 2,
   "id": "a6c99f8a",
   "metadata": {},
   "outputs": [
    {
     "ename": "SyntaxError",
     "evalue": "invalid syntax (2428330118.py, line 1)",
     "output_type": "error",
     "traceback": [
      "\u001b[1;36m  Cell \u001b[1;32mIn[2], line 1\u001b[1;36m\u001b[0m\n\u001b[1;33m    if = 42  # This will result in a SyntaxError\u001b[0m\n\u001b[1;37m       ^\u001b[0m\n\u001b[1;31mSyntaxError\u001b[0m\u001b[1;31m:\u001b[0m invalid syntax\n"
     ]
    }
   ],
   "source": [
    "if = 42  # This will result in a SyntaxError\n"
   ]
  },
  {
   "cell_type": "markdown",
   "id": "425899b0",
   "metadata": {},
   "source": [
    "5.The def keyword in Python is used to define a new function. Functions are blocks of code that can be named, defined, and executed multiple times within a program. They allow you to encapsulate a sequence of statements into a single entity, making your code more organized, reusable, and modular.\n"
   ]
  },
  {
   "cell_type": "code",
   "execution_count": 3,
   "id": "d3ec7abd",
   "metadata": {},
   "outputs": [],
   "source": [
    "def function_name(parameters):\n",
    "    \"\"\"Docstring: Optional description of the function.\"\"\"\n",
    "    # Function body: Contains one or more statements\n",
    "    # ...\n",
    "    return result  # Optional return statement\n"
   ]
  },
  {
   "cell_type": "markdown",
   "id": "d556150a",
   "metadata": {},
   "source": [
    "6.The special character '\\' (backslash) in Python is used as an escape character. An escape character is used to indicate that the character following it has a special meaning or needs to be treated in a certain way. It's often used to represent characters that are difficult to type directly in a string or to include characters that have special interpretations within strings."
   ]
  },
  {
   "cell_type": "code",
   "execution_count": 4,
   "id": "bdb81cd8",
   "metadata": {},
   "outputs": [
    {
     "name": "stdout",
     "output_type": "stream",
     "text": [
      "Hello\n",
      "World\n",
      "Hello\tWorld\n",
      "She said, \"Hi!\"\n",
      "C:\\Users\\John\n",
      "Unicode: Ω\n",
      "This is a raw string \\n\n"
     ]
    }
   ],
   "source": [
    "print(\"Hello\\nWorld\")   \n",
    "print(\"Hello\\tWorld\")   \n",
    "print(\"She said, \\\"Hi!\\\"\")  \n",
    "print(\"C:\\\\Users\\\\John\")  \n",
    "print(\"Unicode: \\u03A9\")  \n",
    "print(r\"This is a raw string \\n\")  \n"
   ]
  },
  {
   "cell_type": "markdown",
   "id": "4fd83806",
   "metadata": {},
   "source": [
    "7.Homogeneous List:\n",
    "A homogeneous list contains elements of the same data type. In this example, all elements in the list are integers."
   ]
  },
  {
   "cell_type": "code",
   "execution_count": null,
   "id": "590a7ee9",
   "metadata": {},
   "outputs": [],
   "source": [
    "homogeneous_list = [10, 20, 30, 40, 50]\n"
   ]
  },
  {
   "cell_type": "markdown",
   "id": "4e21587f",
   "metadata": {},
   "source": [
    "Heterogeneous Set:\n",
    "A heterogeneous set contains elements of different data types. In this example, the set contains a mix of strings, integers, and floats."
   ]
  },
  {
   "cell_type": "code",
   "execution_count": null,
   "id": "0175b493",
   "metadata": {},
   "outputs": [],
   "source": [
    "heterogeneous_set = {1, 3.14, 'apple', 5, 'banana'}\n"
   ]
  },
  {
   "cell_type": "markdown",
   "id": "71fcfb6a",
   "metadata": {},
   "source": [
    "A homogeneous tuple contains elements of the same data type. In this example, all elements in the tuple are strings."
   ]
  },
  {
   "cell_type": "code",
   "execution_count": null,
   "id": "81f6be62",
   "metadata": {},
   "outputs": [],
   "source": [
    "homogeneous_tuple = ('apple', 'banana', 'cherry', 'date')\n"
   ]
  },
  {
   "cell_type": "markdown",
   "id": "4731d224",
   "metadata": {},
   "source": [
    "8.In programming, data types can be classified as either mutable or immutable based on whether their values can be changed after creation. This distinction has important implications for how these data types behave and how they are used in your code.\n",
    "\n",
    "Mutable data types are those whose values can be modified after they are created.\n",
    "Common examples of mutable data types in Python include:\n",
    "\n",
    "Lists\n",
    "Dictionaries\n",
    "Sets\n",
    "\n"
   ]
  },
  {
   "cell_type": "code",
   "execution_count": 5,
   "id": "3de1c647",
   "metadata": {},
   "outputs": [
    {
     "name": "stdout",
     "output_type": "stream",
     "text": [
      "[10, 3, 4]\n"
     ]
    }
   ],
   "source": [
    "my_list = [1, 2, 3]\n",
    "my_list[0] = 10  # Modifying an element\n",
    "my_list.append(4)  # Adding an element\n",
    "my_list.remove(2)  # Removing an element\n",
    "print(my_list)  # Output: [10, 3, 4]\n"
   ]
  },
  {
   "cell_type": "markdown",
   "id": "079d300b",
   "metadata": {},
   "source": [
    "Immutable data types, on the other hand, are those whose values cannot be changed after they are created.\n",
    "Common examples of immutable data types in Python include:\n",
    "\n",
    "Integers\n",
    "Floats\n",
    "Strings\n",
    "Tuples"
   ]
  },
  {
   "cell_type": "code",
   "execution_count": 1,
   "id": "7c78a674",
   "metadata": {},
   "outputs": [
    {
     "name": "stdout",
     "output_type": "stream",
     "text": [
      "(1, 2, 3, 4)\n"
     ]
    }
   ],
   "source": [
    "my_tuple = (1, 2, 3)\n",
    "# my_tuple[0] = 10  # This line will result in an error, as tuples are immutable\n",
    "new_tuple = my_tuple + (4,)  # Creating a new tuple with additional element\n",
    "print(new_tuple)  # Output: (1, 2, 3, 4)\n"
   ]
  },
  {
   "cell_type": "code",
   "execution_count": 2,
   "id": "ecb81a5b",
   "metadata": {},
   "outputs": [
    {
     "name": "stdout",
     "output_type": "stream",
     "text": [
      "*\n",
      "***\n",
      "*****\n",
      "*******\n",
      "*********\n"
     ]
    }
   ],
   "source": [
    "#9\n",
    "rows = 5\n",
    "\n",
    "for i in range(1, rows + 1):\n",
    "    print(\"*\" * (2 * i - 1))\n"
   ]
  },
  {
   "cell_type": "code",
   "execution_count": 7,
   "id": "538a6c5c",
   "metadata": {},
   "outputs": [
    {
     "name": "stdout",
     "output_type": "stream",
     "text": [
      "|||||||||\n",
      " |||||||\n",
      "  |||||\n",
      "   |||\n",
      "    |\n"
     ]
    }
   ],
   "source": [
    "#10\n",
    "rows = 5\n",
    "num_spaces = 0\n",
    "\n",
    "while rows >= 1:\n",
    "    spaces = \" \" * num_spaces\n",
    "    stars = \"|\" * (2 * rows - 1)\n",
    "    print(spaces + stars)\n",
    "    num_spaces += 1\n",
    "    rows -= 1\n"
   ]
  },
  {
   "cell_type": "code",
   "execution_count": null,
   "id": "c1d2b568",
   "metadata": {},
   "outputs": [],
   "source": [
    "\n"
   ]
  },
  {
   "cell_type": "code",
   "execution_count": null,
   "id": "86174d23",
   "metadata": {},
   "outputs": [],
   "source": []
  }
 ],
 "metadata": {
  "kernelspec": {
   "display_name": "Python 3 (ipykernel)",
   "language": "python",
   "name": "python3"
  },
  "language_info": {
   "codemirror_mode": {
    "name": "ipython",
    "version": 3
   },
   "file_extension": ".py",
   "mimetype": "text/x-python",
   "name": "python",
   "nbconvert_exporter": "python",
   "pygments_lexer": "ipython3",
   "version": "3.10.9"
  }
 },
 "nbformat": 4,
 "nbformat_minor": 5
}
